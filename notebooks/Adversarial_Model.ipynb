{
 "cells": [
  {
   "cell_type": "code",
   "execution_count": 2,
   "id": "29de5dbf",
   "metadata": {},
   "outputs": [
    {
     "ename": "ModuleNotFoundError",
     "evalue": "No module named 'cs231n'",
     "output_type": "error",
     "traceback": [
      "\u001b[0;31m---------------------------------------------------------------------------\u001b[0m",
      "\u001b[0;31mModuleNotFoundError\u001b[0m                       Traceback (most recent call last)",
      "\u001b[0;32m<ipython-input-2-dcd9a98456bb>\u001b[0m in \u001b[0;36m<module>\u001b[0;34m\u001b[0m\n\u001b[1;32m     14\u001b[0m \u001b[0;32mimport\u001b[0m \u001b[0mmatplotlib\u001b[0m\u001b[0;34m.\u001b[0m\u001b[0mpyplot\u001b[0m \u001b[0;32mas\u001b[0m \u001b[0mplt\u001b[0m\u001b[0;34m\u001b[0m\u001b[0;34m\u001b[0m\u001b[0m\n\u001b[1;32m     15\u001b[0m \u001b[0;32mimport\u001b[0m \u001b[0mmatplotlib\u001b[0m\u001b[0;34m.\u001b[0m\u001b[0mgridspec\u001b[0m \u001b[0;32mas\u001b[0m \u001b[0mgridspec\u001b[0m\u001b[0;34m\u001b[0m\u001b[0;34m\u001b[0m\u001b[0m\n\u001b[0;32m---> 16\u001b[0;31m \u001b[0;32mfrom\u001b[0m \u001b[0mcs231n\u001b[0m\u001b[0;34m.\u001b[0m\u001b[0mgan_pytorch\u001b[0m \u001b[0;32mimport\u001b[0m \u001b[0mpreprocess_img\u001b[0m\u001b[0;34m,\u001b[0m \u001b[0mdeprocess_img\u001b[0m\u001b[0;34m,\u001b[0m \u001b[0mrel_error\u001b[0m\u001b[0;34m,\u001b[0m \u001b[0mcount_params\u001b[0m\u001b[0;34m,\u001b[0m \u001b[0mChunkSampler\u001b[0m\u001b[0;34m\u001b[0m\u001b[0;34m\u001b[0m\u001b[0m\n\u001b[0m\u001b[1;32m     17\u001b[0m \u001b[0;34m\u001b[0m\u001b[0m\n\u001b[1;32m     18\u001b[0m \u001b[0mget_ipython\u001b[0m\u001b[0;34m(\u001b[0m\u001b[0;34m)\u001b[0m\u001b[0;34m.\u001b[0m\u001b[0mrun_line_magic\u001b[0m\u001b[0;34m(\u001b[0m\u001b[0;34m'load_ext'\u001b[0m\u001b[0;34m,\u001b[0m \u001b[0;34m'autoreload'\u001b[0m\u001b[0;34m)\u001b[0m\u001b[0;34m\u001b[0m\u001b[0;34m\u001b[0m\u001b[0m\n",
      "\u001b[0;31mModuleNotFoundError\u001b[0m: No module named 'cs231n'"
     ]
    }
   ],
   "source": [
    "# load things in\n",
    "\n",
    "# Setup cell.\n",
    "import numpy as np\n",
    "import torch\n",
    "import torch.nn as nn\n",
    "from torch.nn import init\n",
    "import torchvision\n",
    "import torchvision.transforms as T\n",
    "import torch.optim as optim\n",
    "from torch.utils.data import DataLoader\n",
    "from torch.utils.data import sampler\n",
    "import torchvision.datasets as dset\n",
    "import matplotlib.pyplot as plt\n",
    "import matplotlib.gridspec as gridspec\n",
    "from adversarial_model import get_optimizer, run_model\n",
    "from models import FeatureExtractor\n",
    "from loss import generator_loss, adversarial_loss\n",
    "\n",
    "%load_ext autoreload\n",
    "%autoreload 2"
   ]
  },
  {
   "cell_type": "code",
   "execution_count": null,
   "id": "46889294",
   "metadata": {},
   "outputs": [],
   "source": [
    "# copied from pset. change this to our stuff\n",
    "\n",
    "mnist_train = dset.MNIST(\n",
    "    './cs231n/datasets/MNIST_data',\n",
    "    train=True,\n",
    "    download=True,\n",
    "    transform=T.ToTensor()\n",
    ")\n",
    "\n",
    "loader_train = DataLoader(\n",
    "    mnist_train,\n",
    "    batch_size=batch_size,\n",
    "    sampler=ChunkSampler(NUM_TRAIN, 0)\n",
    ")\n",
    "\n",
    "mnist_val = dset.MNIST(\n",
    "    './cs231n/datasets/MNIST_data',\n",
    "    train=True,\n",
    "    download=True,\n",
    "    transform=T.ToTensor()\n",
    ")\n",
    "loader_val = DataLoader(\n",
    "    mnist_val,\n",
    "    batch_size=batch_size,\n",
    "    sampler=ChunkSampler(NUM_VAL, NUM_TRAIN)\n",
    ")\n",
    "\n",
    "imgs = loader_train.__iter__().next()[0].view(batch_size, 784).numpy().squeeze()\n",
    "show_images(imgs)"
   ]
  },
  {
   "cell_type": "code",
   "execution_count": null,
   "id": "b087f9f7",
   "metadata": {},
   "outputs": [],
   "source": [
    "# Make the generator\n",
    "g = generator().type(dtype)\n",
    "\n",
    "# Make the feature extractor\n",
    "feature_extractor = FeatureExtractor(g)\n",
    "\n",
    "# Make the adversary\n",
    "a = adversary().type(dtype)\n",
    "\n",
    "# Use the function you wrote earlier to get optimizers for the Discriminator and the Generator\n",
    "a_solver = get_optimizer(a)\n",
    "g_solver = get_optimizer(g)\n",
    "\n",
    "# Run it!\n",
    "run_model(generator, adversary, feature_extractor, g_solver, a_solver, generator_loss, adversarial_loss,\n",
    "          loader_train, w=10, eps=2, alpha=1, print_every=250, batch_size=128, num_epochs=10, verbose=True)"
   ]
  }
 ],
 "metadata": {
  "kernelspec": {
   "display_name": "Python 3",
   "language": "python",
   "name": "python3"
  },
  "language_info": {
   "codemirror_mode": {
    "name": "ipython",
    "version": 3
   },
   "file_extension": ".py",
   "mimetype": "text/x-python",
   "name": "python",
   "nbconvert_exporter": "python",
   "pygments_lexer": "ipython3",
   "version": "3.9.1"
  }
 },
 "nbformat": 4,
 "nbformat_minor": 5
}
