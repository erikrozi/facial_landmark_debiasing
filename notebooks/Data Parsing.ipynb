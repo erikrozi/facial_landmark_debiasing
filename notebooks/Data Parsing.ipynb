{
 "cells": [
  {
   "cell_type": "code",
   "execution_count": 1,
   "id": "developing-panel",
   "metadata": {},
   "outputs": [],
   "source": [
    "import numpy as np\n",
    "import pandas as pd\n",
    "from PIL import Image\n",
    "from tqdm import tqdm"
   ]
  },
  {
   "cell_type": "code",
   "execution_count": 14,
   "id": "israeli-wrapping",
   "metadata": {},
   "outputs": [],
   "source": [
    "data_path = '/home/data/'\n",
    "aflw_path = data_path + 'aflw/aflw/data/'\n",
    "wflw_path = data_path + 'wflw/'\n",
    "w300_path = data_path + '300w/'"
   ]
  },
  {
   "cell_type": "markdown",
   "id": "lightweight-cedar",
   "metadata": {},
   "source": [
    "# 300W Parsing"
   ]
  },
  {
   "cell_type": "code",
   "execution_count": 31,
   "id": "contained-definition",
   "metadata": {},
   "outputs": [
    {
     "data": {
      "text/html": [
       "<div>\n",
       "<style scoped>\n",
       "    .dataframe tbody tr th:only-of-type {\n",
       "        vertical-align: middle;\n",
       "    }\n",
       "\n",
       "    .dataframe tbody tr th {\n",
       "        vertical-align: top;\n",
       "    }\n",
       "\n",
       "    .dataframe thead th {\n",
       "        text-align: right;\n",
       "    }\n",
       "</style>\n",
       "<table border=\"1\" class=\"dataframe\">\n",
       "  <thead>\n",
       "    <tr style=\"text-align: right;\">\n",
       "      <th></th>\n",
       "      <th>x</th>\n",
       "      <th>y</th>\n",
       "    </tr>\n",
       "  </thead>\n",
       "  <tbody>\n",
       "    <tr>\n",
       "      <th>0</th>\n",
       "      <td>208.640420</td>\n",
       "      <td>172.473088</td>\n",
       "    </tr>\n",
       "    <tr>\n",
       "      <th>1</th>\n",
       "      <td>208.669696</td>\n",
       "      <td>194.779178</td>\n",
       "    </tr>\n",
       "    <tr>\n",
       "      <th>2</th>\n",
       "      <td>213.247178</td>\n",
       "      <td>218.584923</td>\n",
       "    </tr>\n",
       "    <tr>\n",
       "      <th>3</th>\n",
       "      <td>220.836104</td>\n",
       "      <td>237.941945</td>\n",
       "    </tr>\n",
       "    <tr>\n",
       "      <th>4</th>\n",
       "      <td>230.628442</td>\n",
       "      <td>261.062325</td>\n",
       "    </tr>\n",
       "    <tr>\n",
       "      <th>...</th>\n",
       "      <td>...</td>\n",
       "      <td>...</td>\n",
       "    </tr>\n",
       "    <tr>\n",
       "      <th>63</th>\n",
       "      <td>337.706819</td>\n",
       "      <td>267.582824</td>\n",
       "    </tr>\n",
       "    <tr>\n",
       "      <th>64</th>\n",
       "      <td>347.797064</td>\n",
       "      <td>268.724438</td>\n",
       "    </tr>\n",
       "    <tr>\n",
       "      <th>65</th>\n",
       "      <td>337.434185</td>\n",
       "      <td>268.650961</td>\n",
       "    </tr>\n",
       "    <tr>\n",
       "      <th>66</th>\n",
       "      <td>331.598989</td>\n",
       "      <td>269.118504</td>\n",
       "    </tr>\n",
       "    <tr>\n",
       "      <th>67</th>\n",
       "      <td>324.441558</td>\n",
       "      <td>269.169828</td>\n",
       "    </tr>\n",
       "  </tbody>\n",
       "</table>\n",
       "<p>68 rows × 2 columns</p>\n",
       "</div>"
      ],
      "text/plain": [
       "             x           y\n",
       "0   208.640420  172.473088\n",
       "1   208.669696  194.779178\n",
       "2   213.247178  218.584923\n",
       "3   220.836104  237.941945\n",
       "4   230.628442  261.062325\n",
       "..         ...         ...\n",
       "63  337.706819  267.582824\n",
       "64  347.797064  268.724438\n",
       "65  337.434185  268.650961\n",
       "66  331.598989  269.118504\n",
       "67  324.441558  269.169828\n",
       "\n",
       "[68 rows x 2 columns]"
      ]
     },
     "execution_count": 31,
     "metadata": {},
     "output_type": "execute_result"
    }
   ],
   "source": [
    "# Code for reading points\n",
    "pd.read_csv(w300_path + 'afw/16413031_1.pts', sep=' ', header=2, names=['x', 'y'])[:-1]"
   ]
  },
  {
   "cell_type": "code",
   "execution_count": 44,
   "id": "allied-tulsa",
   "metadata": {},
   "outputs": [],
   "source": [
    "# Get image filepaths\n",
    "import glob\n",
    "\n",
    "w300_train_folders = ['afw', 'helen', 'ibug', 'lfpw']\n",
    "w300_train_img_paths = []\n",
    "#w300_train_pts_paths = []\n",
    "for folder in w300_train_folders:\n",
    "    w300_train_img_paths += glob.glob(w300_path + folder + '/**/*.png', recursive=True)\n",
    "    w300_train_img_paths += glob.glob(w300_path + folder + '/**/*.jpg', recursive=True)\n",
    "    \n",
    "w300_train_df = pd.DataFrame({'img_path': w300_train_img_paths})"
   ]
  },
  {
   "cell_type": "code",
   "execution_count": 47,
   "id": "analyzed-candle",
   "metadata": {},
   "outputs": [
    {
     "name": "stdout",
     "output_type": "stream",
     "text": [
      "                                          img_path  \\\n",
      "0              /home/data/300w/afw/156474078_2.jpg   \n",
      "1               /home/data/300w/afw/18489332_2.jpg   \n",
      "2             /home/data/300w/afw/2406586388_1.jpg   \n",
      "3              /home/data/300w/afw/397921011_1.jpg   \n",
      "4             /home/data/300w/afw/1648807314_3.jpg   \n",
      "...                                            ...   \n",
      "3832  /home/data/300w/lfpw/trainset/image_0409.png   \n",
      "3833  /home/data/300w/lfpw/trainset/image_0012.png   \n",
      "3834  /home/data/300w/lfpw/trainset/image_0616.png   \n",
      "3835  /home/data/300w/lfpw/trainset/image_0338.png   \n",
      "3836  /home/data/300w/lfpw/trainset/image_0481.png   \n",
      "\n",
      "                                          pts_path  \n",
      "0              /home/data/300w/afw/156474078_2.pts  \n",
      "1               /home/data/300w/afw/18489332_2.pts  \n",
      "2             /home/data/300w/afw/2406586388_1.pts  \n",
      "3              /home/data/300w/afw/397921011_1.pts  \n",
      "4             /home/data/300w/afw/1648807314_3.pts  \n",
      "...                                            ...  \n",
      "3832  /home/data/300w/lfpw/trainset/image_0409.pts  \n",
      "3833  /home/data/300w/lfpw/trainset/image_0012.pts  \n",
      "3834  /home/data/300w/lfpw/trainset/image_0616.pts  \n",
      "3835  /home/data/300w/lfpw/trainset/image_0338.pts  \n",
      "3836  /home/data/300w/lfpw/trainset/image_0481.pts  \n",
      "\n",
      "[3837 rows x 2 columns]\n"
     ]
    }
   ],
   "source": [
    "w300_train_df['pts_path'] = w300_train_df['img_path'].str.slice_replace(start=-3, repl='pts')\n",
    "print(w300_train_df)"
   ]
  },
  {
   "cell_type": "code",
   "execution_count": 48,
   "id": "russian-skating",
   "metadata": {},
   "outputs": [],
   "source": [
    "w300_train_df.to_csv('300w_train_locs.csv')"
   ]
  },
  {
   "cell_type": "code",
   "execution_count": 49,
   "id": "great-milan",
   "metadata": {},
   "outputs": [
    {
     "name": "stdout",
     "output_type": "stream",
     "text": [
      "                                              img_path  \\\n",
      "0    /home/data/300w/test_images/02_Outdoor/outdoor...   \n",
      "1    /home/data/300w/test_images/02_Outdoor/outdoor...   \n",
      "2    /home/data/300w/test_images/02_Outdoor/outdoor...   \n",
      "3    /home/data/300w/test_images/02_Outdoor/outdoor...   \n",
      "4    /home/data/300w/test_images/02_Outdoor/outdoor...   \n",
      "..                                                 ...   \n",
      "595  /home/data/300w/test_images/01_Indoor/indoor_1...   \n",
      "596  /home/data/300w/test_images/01_Indoor/indoor_0...   \n",
      "597  /home/data/300w/test_images/01_Indoor/indoor_2...   \n",
      "598  /home/data/300w/test_images/01_Indoor/indoor_2...   \n",
      "599  /home/data/300w/test_images/01_Indoor/indoor_1...   \n",
      "\n",
      "                                              pts_path  \n",
      "0    /home/data/300w/test_images/02_Outdoor/outdoor...  \n",
      "1    /home/data/300w/test_images/02_Outdoor/outdoor...  \n",
      "2    /home/data/300w/test_images/02_Outdoor/outdoor...  \n",
      "3    /home/data/300w/test_images/02_Outdoor/outdoor...  \n",
      "4    /home/data/300w/test_images/02_Outdoor/outdoor...  \n",
      "..                                                 ...  \n",
      "595  /home/data/300w/test_images/01_Indoor/indoor_1...  \n",
      "596  /home/data/300w/test_images/01_Indoor/indoor_0...  \n",
      "597  /home/data/300w/test_images/01_Indoor/indoor_2...  \n",
      "598  /home/data/300w/test_images/01_Indoor/indoor_2...  \n",
      "599  /home/data/300w/test_images/01_Indoor/indoor_1...  \n",
      "\n",
      "[600 rows x 2 columns]\n"
     ]
    }
   ],
   "source": [
    "w300_test_folders = ['test_images']\n",
    "w300_test_img_paths = []\n",
    "for folder in w300_test_folders:\n",
    "    w300_test_img_paths += glob.glob(w300_path + folder + '/**/*.png', recursive=True)\n",
    "    w300_test_img_paths += glob.glob(w300_path + folder + '/**/*.jpg', recursive=True)\n",
    "    \n",
    "w300_test_df = pd.DataFrame({'img_path': w300_test_img_paths})\n",
    "w300_test_df['pts_path'] = w300_test_df['img_path'].str.slice_replace(start=-3, repl='pts')\n",
    "print(w300_test_df)"
   ]
  },
  {
   "cell_type": "code",
   "execution_count": 50,
   "id": "romance-spain",
   "metadata": {},
   "outputs": [],
   "source": [
    "w300_test_df.to_csv('300w_test_locs.csv')"
   ]
  },
  {
   "cell_type": "markdown",
   "id": "acoustic-scoop",
   "metadata": {},
   "source": [
    "# WFLW Parsing"
   ]
  },
  {
   "cell_type": "code",
   "execution_count": 119,
   "id": "korean-profession",
   "metadata": {},
   "outputs": [],
   "source": [
    "wflw_train_df = pd.read_csv(wflw_path + 'WFLW_annotations/list_98pt_rect_attr_train_test/list_98pt_rect_attr_train.txt', \n",
    "                            sep=' ', header=None)"
   ]
  },
  {
   "cell_type": "code",
   "execution_count": 120,
   "id": "periodic-titanium",
   "metadata": {},
   "outputs": [
    {
     "name": "stdout",
     "output_type": "stream",
     "text": [
      "             0           1           2           3           4           5    \\\n",
      "0     309.307007  538.369019  317.857345  560.120847  322.271739  583.014395   \n",
      "1     579.002991  167.764008  579.682070  179.841323  580.396685  191.916578   \n",
      "2     249.128006  175.462997  249.330412  188.417601  249.393073  201.373615   \n",
      "3     812.989014  627.505005  813.713626  633.254430  814.450604  639.002281   \n",
      "4     507.287994  280.026001  507.360081  288.558285  507.747252  297.081106   \n",
      "...          ...         ...         ...         ...         ...         ...   \n",
      "7495  707.510986  466.559998  707.241833  474.279968  706.911942  481.997532   \n",
      "7496   95.217903  336.835999  100.954315  347.911683  106.551757  359.058076   \n",
      "7497  394.656036  549.344543  398.777789  565.350391  398.190038  581.794235   \n",
      "7498  625.458008  193.985992  625.306287  199.320526  625.186008  204.655847   \n",
      "7499  385.703339  135.728165  385.993068  140.889577  384.926178  145.950075   \n",
      "\n",
      "             6           7           8           9    ...  197  198  199  200  \\\n",
      "0     319.583872  606.149851  314.765287  629.015727  ...  308  696  870    0   \n",
      "1     581.180930  203.987499  582.094807  216.049139  ...   73  746  317    0   \n",
      "2     249.558448  214.328097  250.530592  227.243593  ...  104  420  330    0   \n",
      "3     815.212105  644.746929  816.041647  650.482018  ...  582  901  697    0   \n",
      "4     508.773408  305.548694  510.611932  313.877793  ...  212  632  379    0   \n",
      "...          ...         ...         ...         ...  ...  ...  ...  ...  ...   \n",
      "7495  706.452133  489.708398  705.910525  497.414044  ...  376  848  568    0   \n",
      "7496  111.857871  370.345549  116.787196  381.802918  ...  174  314  424    0   \n",
      "7497  392.917368  597.445308  387.347747  612.995588  ...  435  652  795    0   \n",
      "7498  625.128384  209.992182  625.162910  215.328676  ...  148  694  268    0   \n",
      "7499  384.346912  151.083034  384.947033  156.217215  ...   84  452  194    0   \n",
      "\n",
      "      201  202  203  204  205  \\\n",
      "0       0    1    0    0    0   \n",
      "1       0    1    0    0    0   \n",
      "2       0    1    0    0    0   \n",
      "3       0    0    0    0    1   \n",
      "4       0    0    0    0    1   \n",
      "...   ...  ...  ...  ...  ...   \n",
      "7495    0    0    0    0    0   \n",
      "7496    0    0    0    0    0   \n",
      "7497    0    0    0    0    0   \n",
      "7498    0    0    0    0    0   \n",
      "7499    0    0    0    0    0   \n",
      "\n",
      "                                                    206  \n",
      "0        51--Dresses/51_Dresses_wearingdress_51_377.jpg  \n",
      "1                19--Couple/19_Couple_Couple_19_340.jpg  \n",
      "2     15--Stock_Market/15_Stock_Market_Stock_Market_...  \n",
      "3          44--Aerobics/44_Aerobics_Aerobics_44_543.jpg  \n",
      "4     5--Car_Accident/5_Car_Accident_Accident_5_938.jpg  \n",
      "...                                                 ...  \n",
      "7495  13--Interview/13_Interview_Interview_On_Locati...  \n",
      "7496  31--Waiter_Waitress/31_Waiter_Waitress_Waiter_...  \n",
      "7497       23--Shoppers/23_Shoppers_Shoppers_23_740.jpg  \n",
      "7498          7--Cheering/7_Cheering_Cheering_7_125.jpg  \n",
      "7499       44--Aerobics/44_Aerobics_Aerobics_44_570.jpg  \n",
      "\n",
      "[7500 rows x 207 columns]\n"
     ]
    }
   ],
   "source": [
    "print(wflw_train_df)"
   ]
  },
  {
   "cell_type": "markdown",
   "id": "above-chorus",
   "metadata": {},
   "source": [
    "# AFLW Parsing"
   ]
  },
  {
   "cell_type": "code",
   "execution_count": 3,
   "id": "peripheral-resident",
   "metadata": {},
   "outputs": [],
   "source": [
    "import sqlite3\n",
    "\n",
    "aflw_sql_con = sqlite3.connect(aflw_path + 'aflw.sqlite')\n",
    "feature_coords = pd.read_sql('SELECT * FROM FeatureCoords', aflw_sql_con)"
   ]
  },
  {
   "cell_type": "code",
   "execution_count": 71,
   "id": "associate-heater",
   "metadata": {},
   "outputs": [
    {
     "name": "stdout",
     "output_type": "stream",
     "text": [
      "[19  1  2  3  4  5  7  8  9 11 13 14 15 18 20 21  6 10 12 16 17]\n"
     ]
    }
   ],
   "source": [
    "# Saves FeatureCoords to csv\n",
    "features = pd.DataFrame(data = {'face_id': feature_coords.face_id.unique()})\n",
    "for faceid in tqdm(features.face_id.unique()):\n",
    "    face_features = feature_coords[feature_coords.face_id == faceid]\n",
    "\n",
    "    for i in face_features.feature_id:\n",
    "        features.loc[features.face_id == faceid, [f'{i}_x']]= face_features[face_features['feature_id'] == i].iloc[0].x\n",
    "        features.loc[features.face_id == faceid, [f'{i}_y']]= face_features[face_features['feature_id'] == i].iloc[0].y\n",
    "features.to_csv('aflw_featurecoords.csv', index=False)"
   ]
  },
  {
   "cell_type": "code",
   "execution_count": 13,
   "id": "amateur-indiana",
   "metadata": {},
   "outputs": [
    {
     "name": "stdout",
     "output_type": "stream",
     "text": [
      "Faces\n",
      "sqlite_sequence\n",
      "FacePose\n",
      "FaceImages\n",
      "Databases\n",
      "FaceMetaData\n",
      "sqlite_stat1\n",
      "FaceRect\n",
      "AnnotationType\n",
      "FaceEllipse\n",
      "NearDuplicates\n",
      "FeatureCoords\n",
      "FeatureCoordTypes\n",
      "CamPose\n"
     ]
    }
   ],
   "source": [
    "# Prints list of tables in SQL database\n",
    "\n",
    "res = aflw_sql_con.execute(\"SELECT name FROM sqlite_master WHERE type='table';\")\n",
    "for name in res:\n",
    "    print(name[0])"
   ]
  },
  {
   "cell_type": "code",
   "execution_count": 10,
   "id": "quiet-inside",
   "metadata": {},
   "outputs": [],
   "source": [
    "# Obtains image paths\n",
    "aflw_filepaths = pd.read_sql('SELECT * FROM FaceImages', aflw_sql_con)\n",
    "aflw_filepaths.to_csv('aflw_imagepaths.csv', index=False)"
   ]
  },
  {
   "cell_type": "code",
   "execution_count": 13,
   "id": "national-processor",
   "metadata": {},
   "outputs": [],
   "source": [
    "# Obtains image metadata\n",
    "aflw_metadata = pd.read_sql('SELECT * FROM FaceMetaData', aflw_sql_con)\n",
    "aflw_metadata.to_csv('aflw_metadata.csv', index=False)"
   ]
  },
  {
   "cell_type": "code",
   "execution_count": null,
   "id": "isolated-flesh",
   "metadata": {},
   "outputs": [],
   "source": []
  }
 ],
 "metadata": {
  "kernelspec": {
   "display_name": "Python 3",
   "language": "python",
   "name": "python3"
  },
  "language_info": {
   "codemirror_mode": {
    "name": "ipython",
    "version": 3
   },
   "file_extension": ".py",
   "mimetype": "text/x-python",
   "name": "python",
   "nbconvert_exporter": "python",
   "pygments_lexer": "ipython3",
   "version": "3.7.10"
  }
 },
 "nbformat": 4,
 "nbformat_minor": 5
}
