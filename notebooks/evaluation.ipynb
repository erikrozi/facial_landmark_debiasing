{
 "cells": [
  {
   "cell_type": "code",
   "execution_count": null,
   "id": "166ec153",
   "metadata": {},
   "outputs": [],
   "source": [
    "import numpy as np\n",
    "import torch\n",
    "import matplotlib\n",
    "matplotlib.use('Agg')\n",
    "import matplotlib.pyplot as plt\n",
    "%matplotlib inline"
   ]
  },
  {
   "cell_type": "code",
   "execution_count": null,
   "id": "eeaa56e2",
   "metadata": {},
   "outputs": [],
   "source": [
    "# load data and predictions\n",
    "x = # input data\n",
    "y = # true locations\n",
    "y_hat = # predictions\n",
    "\n",
    "n, m = [*y.shape] # n = num_samples, m = 2*num_features"
   ]
  },
  {
   "cell_type": "code",
   "execution_count": null,
   "id": "78af31ca",
   "metadata": {},
   "outputs": [],
   "source": [
    "\"\"\"Set d to be either interocular distance or bounding box diagonal length. d should have size n\n",
    "\"\"\"\n",
    "d = "
   ]
  },
  {
   "cell_type": "code",
   "execution_count": null,
   "id": "991780c4",
   "metadata": {},
   "outputs": [],
   "source": [
    "\"\"\"\n",
    "Z = list of lists, where each entry is [sensitive attribute column number, majority condition]\n",
    "alpha = failure rate threshold   \n",
    "calculate_landmark: if True, calculates certain bias metrics overall and per landmark. if false, only overall\n",
    "\"\"\"\n",
    "Z = []\n",
    "alpha = 0.05\n",
    "calculate_landmark = False"
   ]
  },
  {
   "cell_type": "code",
   "execution_count": null,
   "id": "d58866d5",
   "metadata": {},
   "outputs": [],
   "source": [
    "\"\"\" Accuracy Metrics: Normalized Mean Error (NME) and CED/AUC/FR\n",
    "y, y_hat have dimensions of n x m\n",
    "d is the interocular distance\n",
    "\"\"\"\n",
    "\n",
    "def nme_images(y_hat, y, m, d):\n",
    "    # Output: NME of each image over all landmarks (size n)\n",
    "    return torch.square(torch.norm(y_hat-y, dim=1)) / d / m\n",
    "\n",
    "\n",
    "def nme_landmark(y_hat, y, m, d):\n",
    "    # Output: NME of each image for each facial landmark (size n x m/2)\n",
    "    nme = torch.square(y_hat-y) / torch.unsqueeze(d, 1) \n",
    "    nme = torch.reshape(nme, (n, 2, m/2))\n",
    "    return torch.mean(nme, axis=1)\n",
    "\n",
    "\n",
    "def total_nme(nme):\n",
    "    # Output: average NME across all images\n",
    "    return torch.mean(nme)\n",
    "\n",
    "\n",
    "def ced(nme):\n",
    "    # Output: plot of the CED\n",
    "    x = torch.sort(nme).numpy\n",
    "    y = np.arange(n) / float(n)\n",
    "    plt.xlabel('Normalized Mean Error (NME)')\n",
    "    plt.ylabel('Percent of Samples')\n",
    "  \n",
    "    plt.title('Plot of Cumulative Error Distribution (CED) Curve')\n",
    "    plt.plot(x, y, marker='o')\n",
    "    plt.show\n",
    "\n",
    "\n",
    "def auc(nme, alpha):\n",
    "    # Output: percentage of samples with nme=0 to alpha\n",
    "    x = torch.where(nme < alpha, 1, 0)\n",
    "    return torch.sum(failure) / n\n",
    "\n",
    "\n",
    "def fr(nme, alpha):\n",
    "    # Output: failure rate, where failure is defined w.r.t a threshold, alpha (percent of samples with nme>alpha)\n",
    "    return 1-auc(nme, alpha)"
   ]
  },
  {
   "cell_type": "code",
   "execution_count": null,
   "id": "66398ecd",
   "metadata": {},
   "outputs": [],
   "source": [
    "nme_images = nme_images(y_hat, y, m, d)\n",
    "nme_landmarks = nme_landmarks(y_hat, y, m, d)\n",
    "total_nme = total_nme(nme_images)\n",
    "\n",
    "print('Average Normalized Mean Error:' total_nme)"
   ]
  },
  {
   "cell_type": "code",
   "execution_count": null,
   "id": "55d69a28",
   "metadata": {},
   "outputs": [],
   "source": [
    "ced = ced(nme_images)"
   ]
  },
  {
   "cell_type": "code",
   "execution_count": null,
   "id": "1b4adbee",
   "metadata": {},
   "outputs": [],
   "source": [
    "\"\"\"Bias Metrics: Majority/Minority Difference in Error/Failure (MMD)\"\"\"\n",
    "def mmd_err(majority, minority):\n",
    "    difference = torch.mean(majority, dim=0) - torch.mean(minority, dim=0)\n",
    "    return difference\n",
    "\n",
    "def mmd_fr(majority, minority, alpha):\n",
    "    difference = fr(majority, alpha, dim=0) - fr(minority, alpha, dim=0)\n",
    "    return difference"
   ]
  },
  {
   "cell_type": "code",
   "execution_count": null,
   "id": "0894ed68",
   "metadata": {},
   "outputs": [],
   "source": [
    "\"\"\" Within each loop:\n",
    "z = sensitive attribute group (as column number)\n",
    "maj = value of majority group\n",
    "nme = num_samples dimension tensor\n",
    "\"\"\"\n",
    "\n",
    "mmd_err = {}\n",
    "mmd_fr = {}\n",
    "\n",
    "\n",
    "if calculate_landmark:\n",
    "    mmd_error_landmarks = {}\n",
    "\n",
    "# calculates MMD Error and MMD Failure averaged across all landmarks\n",
    "for z, maj in Z:\n",
    "    majority = nme_images[tensor.where(x[:, z] == maj)] # size # images in majority\n",
    "    minority = nme_images[tensor.where(x[:, z] != maj)] # size # images in minority\n",
    "\n",
    "    mmd_err[z] = mmd_err(majority, minority)\n",
    "    mmd_fr[z] = mmd_fr(majority, minority, alpha)\n",
    "\n",
    "# calculates MMD Error for each landmark    \n",
    "if calculate_landmark:\n",
    "    for z, maj in Z:\n",
    "        majority = nme_landmarks[tensor.where(x[:, z] == maj)] # size # images in majority x m/2\n",
    "        minority = nme_landmarks[tensor.where(x[:, z] != maj)] # size # images in minority x m/2\n",
    "        mmd_error_landmarks[z] = mmd_error_landmarks(majority, minority)"
   ]
  },
  {
   "cell_type": "code",
   "execution_count": null,
   "id": "bf20ad57",
   "metadata": {},
   "outputs": [],
   "source": [
    "print('MMD in Error:', mmd_error)\n",
    "print('MMD in Failure Rate:', mmd_fr)\n",
    "\n",
    "if calculate_landmark:\n",
    "    print('MMD in Error per landmark')\n",
    "    for z, error in mmd_error_landmarks.items():\n",
    "        print(f'Landmark {z}: {error}')"
   ]
  }
 ],
 "metadata": {
  "kernelspec": {
   "display_name": "Python 3",
   "language": "python",
   "name": "python3"
  },
  "language_info": {
   "codemirror_mode": {
    "name": "ipython",
    "version": 3
   },
   "file_extension": ".py",
   "mimetype": "text/x-python",
   "name": "python",
   "nbconvert_exporter": "python",
   "pygments_lexer": "ipython3",
   "version": "3.9.1"
  }
 },
 "nbformat": 4,
 "nbformat_minor": 5
}
