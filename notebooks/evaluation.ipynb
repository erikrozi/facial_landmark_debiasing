{
 "cells": [
  {
   "cell_type": "code",
   "execution_count": null,
   "id": "166ec153",
   "metadata": {},
   "outputs": [],
   "source": [
    "import torch\n",
    "import matplotlib\n",
    "matplotlib.use('Agg')\n",
    "import matplotlib.pyplot as plt\n",
    "%matplotlib inline"
   ]
  },
  {
   "cell_type": "code",
   "execution_count": null,
   "id": "eeaa56e2",
   "metadata": {},
   "outputs": [],
   "source": [
    "# load data and predictions\n",
    "x = # input data\n",
    "y = # true locations\n",
    "y_hat = # predictions\n",
    "\n",
    "n, m = [*y.shape]"
   ]
  },
  {
   "cell_type": "code",
   "execution_count": null,
   "id": "78af31ca",
   "metadata": {},
   "outputs": [],
   "source": [
    "# define d to be either interocular distance or bounding box diagonal length\n",
    "d = "
   ]
  },
  {
   "cell_type": "code",
   "execution_count": null,
   "id": "d58866d5",
   "metadata": {},
   "outputs": [],
   "source": [
    "\"\"\" Accuracy Metrics: Normalized Mean Error (NME) and CED/AUC/FR\n",
    "y, y_hat have dimensions of num_samples x (2*num_features)\n",
    "d is the interocular distance\n",
    "\"\"\"\n",
    "# returns the NME of each image in the dataset\n",
    "def nme(y_hat, y, m, d):\n",
    "    return torch.square(torch.norm(y_hat-y, dim=1))/ d / m\n",
    "\n",
    "# returns the average NME across all images\n",
    "def total_nme(nme):\n",
    "    return torch.mean(NME)\n",
    "\n",
    "# outputs the CED\n",
    "def ced(nme):\n",
    "    x = torch.sort(NME)\n",
    "    y = np.arange(n) / float(n)\n",
    "    plt.xlabel('x-axis')\n",
    "    plt.ylabel('y-axis')\n",
    "  \n",
    "    plt.title('Plot of NME vs Fraction of Samples')\n",
    "    plt.plot(x, y, marker='o')\n",
    "    plt.show\n",
    "\n",
    "# returns the percentage of samples with nme=0 to alpha\n",
    "def auc(nme, alpha):\n",
    "    x = torch.where(NME < alpha, 1, 0)\n",
    "    return torch.sum(failure) / n\n",
    "    \n",
    "# returns the failure rate, where failure is defined w.r.t a threshold, alpha (percent of samples with nme>alpha)\n",
    "def fr(nme, alpha):\n",
    "    return 1-auc(nme, alpha)"
   ]
  },
  {
   "cell_type": "code",
   "execution_count": null,
   "id": "66398ecd",
   "metadata": {},
   "outputs": [],
   "source": [
    "nme = nme(y_hat, y, m, d)\n",
    "total_nme = total_nme(nme)"
   ]
  },
  {
   "cell_type": "code",
   "execution_count": null,
   "id": "55d69a28",
   "metadata": {},
   "outputs": [],
   "source": [
    "ced = ced(nme)"
   ]
  },
  {
   "cell_type": "code",
   "execution_count": null,
   "id": "1b4adbee",
   "metadata": {},
   "outputs": [],
   "source": [
    "\"\"\"Bias Metrics: Majority/Minority Difference (MMD), Improvement Over the Standard Model (IOSM), KL-divergence\n",
    "g = sensitive attribute group (as column number)\n",
    "maj = value of minority group\n",
    "nme = num_samples dimension tensor\n",
    "\"\"\"\n",
    "\n",
    "def mmd(g, maj, nme, data):\n",
    "    acc = 1-nme\n",
    "    majority = acc[tensor.where(data[:, g] == maj)]\n",
    "    minority = acc[tensor.where(data[:, g] != maj)]\n",
    "    difference = torch.mean(majority) - torch.mean(minority)\n",
    "    return difference\n",
    "\n",
    "# def iosm(g, nme, )\n",
    "\n",
    "# def KL divergence(g, maj, nme, data):\n"
   ]
  }
 ],
 "metadata": {
  "kernelspec": {
   "display_name": "Python 3",
   "language": "python",
   "name": "python3"
  },
  "language_info": {
   "codemirror_mode": {
    "name": "ipython",
    "version": 3
   },
   "file_extension": ".py",
   "mimetype": "text/x-python",
   "name": "python",
   "nbconvert_exporter": "python",
   "pygments_lexer": "ipython3",
   "version": "3.9.1"
  }
 },
 "nbformat": 4,
 "nbformat_minor": 5
}
